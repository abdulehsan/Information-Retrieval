{
  "nbformat": 4,
  "nbformat_minor": 0,
  "metadata": {
    "colab": {
      "provenance": [],
      "authorship_tag": "ABX9TyOttokSa3GnZIsJQsgNw2eC",
      "include_colab_link": true
    },
    "kernelspec": {
      "name": "python3",
      "display_name": "Python 3"
    },
    "language_info": {
      "name": "python"
    }
  },
  "cells": [
    {
      "cell_type": "markdown",
      "metadata": {
        "id": "view-in-github",
        "colab_type": "text"
      },
      "source": [
        "<a href=\"https://colab.research.google.com/github/abdulehsan/Information-Retrieval/blob/main/IR_Lab_01_(Report).ipynb\" target=\"_parent\"><img src=\"https://colab.research.google.com/assets/colab-badge.svg\" alt=\"Open In Colab\"/></a>"
      ]
    },
    {
      "cell_type": "markdown",
      "source": [
        "**Information Retrieval Lab**\n",
        "\n",
        "Implementing Boolean Retrieval Model, which is a fundamental approach in IR that uses Boolean logic to retrieve relevant documents based on exact keyword matching."
      ],
      "metadata": {
        "id": "shfi_m9EkgnC"
      }
    },
    {
      "cell_type": "code",
      "execution_count": 93,
      "metadata": {
        "colab": {
          "base_uri": "https://localhost:8080/",
          "height": 0
        },
        "id": "P6YI-GFhekNr",
        "outputId": "0d12350f-16d8-43ba-f5ed-3e975217d8bc"
      },
      "outputs": [
        {
          "output_type": "execute_result",
          "data": {
            "text/plain": [
              "{1: 'In the Name of Allah—the Most Compassionate, Most Merciful.',\n",
              " 2: 'All praise is for Allah—Lord of all worlds',\n",
              " 3: 'the Most Compassionate, Most Merciful',\n",
              " 4: 'Master of the Day of Judgment.',\n",
              " 5: 'You ˹alone˺ we worship and You ˹alone˺ we ask for help.',\n",
              " 6: 'Guide us along the Straight Path,',\n",
              " 7: 'the Path of those You have blessed—not those You are displeased with, or those who are astray.'}"
            ]
          },
          "metadata": {},
          "execution_count": 93
        }
      ],
      "source": [
        "Chapter_1 = {\n",
        "1 : \"In the Name of Allah—the Most Compassionate, Most Merciful.\",\n",
        "2: \"All praise is for Allah—Lord of all worlds\",\n",
        "3: \"the Most Compassionate, Most Merciful\",\n",
        "4: \"Master of the Day of Judgment.\",\n",
        "5: \"You ˹alone˺ we worship and You ˹alone˺ we ask for help.\",\n",
        "6: \"Guide us along the Straight Path,\",\n",
        "7: \"the Path of those You have blessed—not those You are displeased with, or those who are astray.\"\n",
        "}\n",
        "\n",
        "Chapter_1"
      ]
    },
    {
      "cell_type": "markdown",
      "source": [
        "**Preprocessing (removing punctuation, tokenization, converting to lower space), Creating a Vocabulary for the dataset**\n",
        "\n",
        "*   Splitted each words by either space, hyphens, em dash, en dash\n",
        "*   Removed punctuation\n",
        "*   Stored each word in set named Vocab\n",
        "*   Used .lower() on each word , to lower case the word\n",
        "\n",
        "\n",
        "\n",
        "\n",
        "\n"
      ],
      "metadata": {
        "id": "ps7TBD9BkZFk"
      }
    },
    {
      "cell_type": "code",
      "source": [
        "import re\n",
        "\n",
        "def preprocess_text(doc):\n",
        "\n",
        "  vocab = set()\n",
        "\n",
        "  for text in doc.values():\n",
        "    text = re.split(r'\\s|-|\\u2014|\\u2013',text)\n",
        "    for word in text:\n",
        "      word = re.sub(r'[^\\w\\s]', '', word)\n",
        "      vocab.add(word.lower())\n",
        "\n",
        "  return vocab"
      ],
      "metadata": {
        "id": "jKVPU5gHkfrw"
      },
      "execution_count": 94,
      "outputs": []
    },
    {
      "cell_type": "code",
      "source": [
        "vocab = preprocess_text(Chapter_1)\n",
        "vocab"
      ],
      "metadata": {
        "colab": {
          "base_uri": "https://localhost:8080/",
          "height": 0
        },
        "id": "5h-LY2x00Azg",
        "outputId": "e0e4d9ad-a8f7-49ce-f2f8-d9fe2e955143"
      },
      "execution_count": 95,
      "outputs": [
        {
          "output_type": "execute_result",
          "data": {
            "text/plain": [
              "{'all',\n",
              " 'allah',\n",
              " 'alone',\n",
              " 'along',\n",
              " 'and',\n",
              " 'are',\n",
              " 'ask',\n",
              " 'astray',\n",
              " 'blessed',\n",
              " 'compassionate',\n",
              " 'day',\n",
              " 'displeased',\n",
              " 'for',\n",
              " 'guide',\n",
              " 'have',\n",
              " 'help',\n",
              " 'in',\n",
              " 'is',\n",
              " 'judgment',\n",
              " 'lord',\n",
              " 'master',\n",
              " 'merciful',\n",
              " 'most',\n",
              " 'name',\n",
              " 'not',\n",
              " 'of',\n",
              " 'or',\n",
              " 'path',\n",
              " 'praise',\n",
              " 'straight',\n",
              " 'the',\n",
              " 'those',\n",
              " 'us',\n",
              " 'we',\n",
              " 'who',\n",
              " 'with',\n",
              " 'worlds',\n",
              " 'worship',\n",
              " 'you'}"
            ]
          },
          "metadata": {},
          "execution_count": 95
        }
      ]
    },
    {
      "cell_type": "markdown",
      "source": [
        "**Removing Stop Words**\n",
        "\n",
        "Removed Stop words from Vocabulary by using nltk Library"
      ],
      "metadata": {
        "id": "1e2cIlt367dv"
      }
    },
    {
      "cell_type": "code",
      "source": [
        "import nltk\n",
        "nltk.download('stopwords')\n",
        "from nltk.corpus import stopwords\n",
        "\n",
        "stop_words = set(stopwords.words('english'))"
      ],
      "metadata": {
        "colab": {
          "base_uri": "https://localhost:8080/",
          "height": 0
        },
        "id": "6B37o9ko7C9x",
        "outputId": "301f3289-2871-45a0-8726-237d192856b6"
      },
      "execution_count": 96,
      "outputs": [
        {
          "output_type": "stream",
          "name": "stderr",
          "text": [
            "[nltk_data] Downloading package stopwords to /root/nltk_data...\n",
            "[nltk_data]   Package stopwords is already up-to-date!\n"
          ]
        }
      ]
    },
    {
      "cell_type": "code",
      "source": [
        "vocab = {word for word in vocab if word not in stop_words}\n",
        "vocab"
      ],
      "metadata": {
        "colab": {
          "base_uri": "https://localhost:8080/",
          "height": 0
        },
        "id": "xNQYTLCc-KPQ",
        "outputId": "8ce36fcd-e34e-4de2-8e45-96d9f6dc8901"
      },
      "execution_count": 97,
      "outputs": [
        {
          "output_type": "execute_result",
          "data": {
            "text/plain": [
              "{'allah',\n",
              " 'alone',\n",
              " 'along',\n",
              " 'ask',\n",
              " 'astray',\n",
              " 'blessed',\n",
              " 'compassionate',\n",
              " 'day',\n",
              " 'displeased',\n",
              " 'guide',\n",
              " 'help',\n",
              " 'judgment',\n",
              " 'lord',\n",
              " 'master',\n",
              " 'merciful',\n",
              " 'name',\n",
              " 'path',\n",
              " 'praise',\n",
              " 'straight',\n",
              " 'us',\n",
              " 'worlds',\n",
              " 'worship'}"
            ]
          },
          "metadata": {},
          "execution_count": 97
        }
      ]
    },
    {
      "cell_type": "markdown",
      "source": [
        "**Creating Term Document Incidence Matrix**\n",
        "\n",
        "We built an inverted index, a dictionary where:\n",
        "\n",
        "Keys are words (terms from the vocabulary).\n",
        "\n",
        "Values are 0s & 1s of document IDs that contain the corresponding term.\n",
        "This allows quick lookup for Boolean queries.\n"
      ],
      "metadata": {
        "id": "WeumgE1JDAm1"
      }
    },
    {
      "cell_type": "code",
      "source": [
        "def term_doc_matrix(doc,vocab):\n",
        "  term_doc_matrix = {}\n",
        "\n",
        "  for word in vocab:\n",
        "    term_doc_matrix[word] = []\n",
        "    for text in doc.values():\n",
        "      if word in text.lower().strip():\n",
        "        term_doc_matrix[word].append(1)\n",
        "      else:\n",
        "        term_doc_matrix[word].append(0)\n",
        "  return term_doc_matrix\n",
        "\n",
        "term_doc_matrix = term_doc_matrix(Chapter_1,vocab)\n",
        "term_doc_matrix"
      ],
      "metadata": {
        "colab": {
          "base_uri": "https://localhost:8080/",
          "height": 0
        },
        "id": "_x7CxF90-X4H",
        "outputId": "f37f3d87-da8b-4b4d-9374-f66741226211"
      },
      "execution_count": 98,
      "outputs": [
        {
          "output_type": "execute_result",
          "data": {
            "text/plain": [
              "{'guide': [0, 0, 0, 0, 0, 1, 0],\n",
              " 'praise': [0, 1, 0, 0, 0, 0, 0],\n",
              " 'name': [1, 0, 0, 0, 0, 0, 0],\n",
              " 'worship': [0, 0, 0, 0, 1, 0, 0],\n",
              " 'help': [0, 0, 0, 0, 1, 0, 0],\n",
              " 'allah': [1, 1, 0, 0, 0, 0, 0],\n",
              " 'compassionate': [1, 0, 1, 0, 0, 0, 0],\n",
              " 'along': [0, 0, 0, 0, 0, 1, 0],\n",
              " 'astray': [0, 0, 0, 0, 0, 0, 1],\n",
              " 'blessed': [0, 0, 0, 0, 0, 0, 1],\n",
              " 'day': [0, 0, 0, 1, 0, 0, 0],\n",
              " 'judgment': [0, 0, 0, 1, 0, 0, 0],\n",
              " 'displeased': [0, 0, 0, 0, 0, 0, 1],\n",
              " 'path': [0, 0, 0, 0, 0, 1, 1],\n",
              " 'us': [0, 0, 0, 0, 0, 1, 0],\n",
              " 'lord': [0, 1, 0, 0, 0, 0, 0],\n",
              " 'alone': [0, 0, 0, 0, 1, 0, 0],\n",
              " 'worlds': [0, 1, 0, 0, 0, 0, 0],\n",
              " 'straight': [0, 0, 0, 0, 0, 1, 0],\n",
              " 'master': [0, 0, 0, 1, 0, 0, 0],\n",
              " 'ask': [0, 0, 0, 0, 1, 0, 0],\n",
              " 'merciful': [1, 0, 1, 0, 0, 0, 0]}"
            ]
          },
          "metadata": {},
          "execution_count": 98
        }
      ]
    },
    {
      "cell_type": "markdown",
      "source": [
        "**Creating Inverted Index**\n",
        "\n",
        "We built an inverted index, a dictionary where:\n",
        "\n",
        "Keys are words (terms from the vocabulary).\n",
        "\n",
        "Values are sets of document IDs that contain the corresponding term.\n",
        "This allows quick lookup for Boolean queries."
      ],
      "metadata": {
        "id": "dtFrwGmADJHQ"
      }
    },
    {
      "cell_type": "code",
      "source": [
        "def inverted_index(doc,vocab):\n",
        "  index = {}\n",
        "\n",
        "  for word in vocab:\n",
        "    index[word] = []\n",
        "    for doc_id, text in doc.items():\n",
        "      if word in text.lower().strip():\n",
        "        index[word].append(doc_id)\n",
        "  return index\n",
        "\n",
        "index = inverted_index(Chapter_1,vocab)\n",
        "index"
      ],
      "metadata": {
        "colab": {
          "base_uri": "https://localhost:8080/",
          "height": 0
        },
        "id": "8MIsK7OlABk1",
        "outputId": "0ab562e9-8dd9-4acc-8894-5b43f2da5a8c"
      },
      "execution_count": 99,
      "outputs": [
        {
          "output_type": "execute_result",
          "data": {
            "text/plain": [
              "{'guide': [6],\n",
              " 'praise': [2],\n",
              " 'name': [1],\n",
              " 'worship': [5],\n",
              " 'help': [5],\n",
              " 'allah': [1, 2],\n",
              " 'compassionate': [1, 3],\n",
              " 'along': [6],\n",
              " 'astray': [7],\n",
              " 'blessed': [7],\n",
              " 'day': [4],\n",
              " 'judgment': [4],\n",
              " 'displeased': [7],\n",
              " 'path': [6, 7],\n",
              " 'us': [6],\n",
              " 'lord': [2],\n",
              " 'alone': [5],\n",
              " 'worlds': [2],\n",
              " 'straight': [6],\n",
              " 'master': [4],\n",
              " 'ask': [5],\n",
              " 'merciful': [1, 3]}"
            ]
          },
          "metadata": {},
          "execution_count": 99
        }
      ]
    },
    {
      "cell_type": "markdown",
      "source": [
        "**Implemented a boolean retrieval model for single word**\n",
        "\n",
        "The function accepts 1 parameter , which will be the word the user enters.\n",
        "Then we have to check the doc_id"
      ],
      "metadata": {
        "id": "1aleiBuDM8OR"
      }
    },
    {
      "cell_type": "code",
      "source": [
        "def get_doc(word):\n",
        "  doc = index[word]\n",
        "  for k,v in Chapter_1.items():\n",
        "    if k in doc:\n",
        "      print(v)\n",
        "\n",
        "\n",
        "get_doc('allah')"
      ],
      "metadata": {
        "colab": {
          "base_uri": "https://localhost:8080/",
          "height": 0
        },
        "id": "JyKwJzWTBJwX",
        "outputId": "83199fa4-2f1a-4b30-9c99-e2e2c9ff2306"
      },
      "execution_count": 110,
      "outputs": [
        {
          "output_type": "stream",
          "name": "stdout",
          "text": [
            "In the Name of Allah—the Most Compassionate, Most Merciful.\n",
            "All praise is for Allah—Lord of all worlds\n"
          ]
        }
      ]
    },
    {
      "cell_type": "markdown",
      "source": [
        "**We implemented Boolean query handling using set operations:**\n",
        "\n",
        "**AND:** Returns documents containing both terms.\n",
        "\n",
        "**OR:** Returns documents containing at least one term.\n",
        "\n",
        "**NOT:** Returns documents containing one term but not the other."
      ],
      "metadata": {
        "id": "WPXPjyFUPjS5"
      }
    },
    {
      "cell_type": "code",
      "source": [
        "def query(query):\n",
        "  query = query.lower().split()\n",
        "  fword = query[0]\n",
        "  op = query[1]\n",
        "  sword = query[2]\n",
        "\n",
        "  if op == 'and':\n",
        "    doc =  set(index[fword]) & set(index[sword])\n",
        "  elif op == 'or':\n",
        "    doc = set(index[fword]) | set(index[sword])\n",
        "  elif op == 'not':\n",
        "    doc = set(index[fword]) - set(index[sword])\n",
        "  for k,v in Chapter_1.items():\n",
        "    if k in doc:\n",
        "      print(v)\n",
        "\n",
        "query('allah and merciful')"
      ],
      "metadata": {
        "colab": {
          "base_uri": "https://localhost:8080/",
          "height": 0
        },
        "id": "YXZEeic_GFe1",
        "outputId": "8f6ce1ab-d707-4519-bf35-e64ee390dc35"
      },
      "execution_count": 111,
      "outputs": [
        {
          "output_type": "stream",
          "name": "stdout",
          "text": [
            "In the Name of Allah—the Most Compassionate, Most Merciful.\n"
          ]
        }
      ]
    },
    {
      "cell_type": "markdown",
      "source": [
        "**Key Findings**\n",
        "\n",
        "Some words in the dataset contain em dash (—) and en dash (–).\n",
        "\n",
        "Using .split() alone only splits by spaces, so words with dashes remain connected.\n",
        "\n",
        "Solution: A regular expression (re.split(r\"\\s|-|\\u2014|\\u2013\", text)) was used to split by:\n",
        "\n",
        "\n",
        "\n",
        "*   Spaces\n",
        "*   Hyphens (-)\n",
        "*   En dash (–)\n",
        "*   Em dash (—)\n",
        "\n",
        "\n",
        "\n",
        "**Document Representation: Term-Document Matrix vs. Inverted Index**\n",
        "\n",
        "A Term-Document Matrix stores all terms in a structured form but is space-consuming.\n",
        "The Inverted Index is more efficient for searching, as it maps terms directly to document IDs.\n",
        "\n",
        "\n",
        "\n"
      ],
      "metadata": {
        "id": "EQYWt5m5QwFu"
      }
    },
    {
      "cell_type": "markdown",
      "source": [
        "**Conclusion**\n",
        "\n",
        "This lab successfully demonstrated how a Boolean Retrieval Model works. We learned how preprocessing improves retrieval accuracy and how an inverted index optimizes search. Future enhancements can improve ranking and support more complex queries."
      ],
      "metadata": {
        "id": "AF9x-DtPP2m0"
      }
    }
  ]
}